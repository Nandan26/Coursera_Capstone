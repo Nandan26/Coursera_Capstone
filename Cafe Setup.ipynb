{
 "cells": [
  {
   "cell_type": "markdown",
   "id": "taken-device",
   "metadata": {},
   "source": [
    "<h1 align=\"center\"> Setting up a Cafe in Ahmedabad </h1>"
   ]
  },
  {
   "cell_type": "markdown",
   "id": "congressional-accident",
   "metadata": {},
   "source": [
    "<p align =\"center\"> Nandan J Kakadiya\n",
    "<br>\n",
    "August 12,2021\n",
    "</p>"
   ]
  },
  {
   "cell_type": "markdown",
   "id": "coordinate-setup",
   "metadata": {},
   "source": [
    "# 1. Introduction\n",
    "The city of Ahmedabad is endowed with a rich architectural heritage that is vital to the local identity and continuity of the place. Along with the foremost heritage Indo-Islamic monuments of the 15th to 17th centuries, there are potential heritage precincts in the form of the Pols, the traditional residential clusters of the medieval period, which makes Ahmedabad exceptional. Combining these all, the historic walled city of Ahmedabad has it all to be the first and only city in India to be inscribed in UNESCO's World Heritage City list of 2017.As a result, Ahmedabad city is hotspot for foreigners as well as local tourists. Opening cafe allow owner to earn good revenue. Opening a new Cafe, like any other business decision, needs careful analysis and is far more complicated than it appears. As with any business, the cafe's location is one of the most critical considerations that will determine whether the business succeeds or fails."
   ]
  },
  {
   "cell_type": "markdown",
   "id": "loving-chart",
   "metadata": {},
   "source": [
    "# 2. Business Problem\n",
    "\n",
    "There are already many Cafes in the city and many more are being built.The objective of this project is to analyze and select the best locations in the city of Ahmedabad, India, to open a new Cafe. This project is mainly focused on geospatial analysis of the Ahmedabad City to understand which would be the best place to open a new Cafe. Using data science methodology and machine learning Algorithms like clustering, this project aims to provide solutions to answer the business question: In the city of Ahmedabad, if someone is looking to open a cafe, where would you recommend that they open it?"
   ]
  },
  {
   "cell_type": "markdown",
   "id": "raised-traffic",
   "metadata": {},
   "source": [
    "# 3. Data\n",
    "\n",
    "We'll need the following data to solve the problem:\n",
    "\n",
    "• List of neighbourhoods in Ahmedabad. This defines the scope of this project which is confined to the city of Ahmedabad.\n",
    "\n",
    "• In order to plot the neighbourhood we will need lattitude and longitude of the neighbourhood.\n",
    "\n",
    "• Venue data, particularly data related to Cafe. We will use this data to perform clustering on the neighbourhoods."
   ]
  },
  {
   "cell_type": "markdown",
   "id": "secondary-three",
   "metadata": {},
   "source": [
    "### 3.1 Sources of Data"
   ]
  },
  {
   "cell_type": "markdown",
   "id": "comparable-caution",
   "metadata": {},
   "source": [
    "[This page](https://en.wikipedia.org/wiki/Category:Neighbourhoods_in_Ahmedabad \"Check out neighbourhood\") is a list of neighbourhoods in Ahmedabad. I have extract the data from the Wikipedia page, with the help of Python requests and beautifulsoup library.\n",
    "\n",
    "Then, using the Python Geocoder library, we can get the latitude and longitude coordinates of the neighbourhoods. After that, to access the venue data for those neighbourhoods, I used the Foursquare API.\n",
    "\n",
    "Foursquare API will provide many categories of the venue data, and we are particularly interested in the Cafe category in order to help us solve the business problem. This is a project that will make use of many data science skills, from web scraping (Wikipedia), working with API (Foursquare), data cleaning, data wrangling, to machine learning (K-means clustering) and map visualization (Folium)."
   ]
  },
  {
   "cell_type": "code",
   "execution_count": null,
   "id": "diagnostic-control",
   "metadata": {},
   "outputs": [],
   "source": []
  }
 ],
 "metadata": {
  "kernelspec": {
   "display_name": "Python 3",
   "language": "python",
   "name": "python3"
  },
  "language_info": {
   "codemirror_mode": {
    "name": "ipython",
    "version": 3
   },
   "file_extension": ".py",
   "mimetype": "text/x-python",
   "name": "python",
   "nbconvert_exporter": "python",
   "pygments_lexer": "ipython3",
   "version": "3.8.7"
  }
 },
 "nbformat": 4,
 "nbformat_minor": 5
}
